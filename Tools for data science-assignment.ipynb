{
 "cells": [
  {
   "cell_type": "markdown",
   "id": "07843cb9",
   "metadata": {},
   "source": [
    "Data Science tools and Ecosystem"
   ]
  },
  {
   "cell_type": "markdown",
   "id": "1bae8159",
   "metadata": {},
   "source": [
    "Introduction\n",
    "The Jupyter Notebook is an open source web application that you can use to create and share documents that contain live code, equations, visualizations, and text. "
   ]
  },
  {
   "cell_type": "markdown",
   "id": "c8c541fe",
   "metadata": {},
   "source": [
    "List of Data Science Languages\n",
    "1. Python\n",
    "2. R\n",
    "3. Julia\n",
    "4. Scala\n",
    "5. SQL\n",
    "6. C/C++\n",
    "7. Java\n",
    "8. PHP\n",
    "9. Go\n",
    "10. Ruby\n",
    "11. Visual Basic\n",
    "12. JavaScript"
   ]
  },
  {
   "cell_type": "markdown",
   "id": "3b16d5c7",
   "metadata": {},
   "source": [
    "Data Science Libraries\n",
    "1. Pandas\n",
    "2. Numpy\n",
    "3. Matplotlib\n",
    "4. SciPy\n",
    "5. Scikit-learn\n",
    "6. TensorFlow\n",
    "7. Keras\n",
    "8. PyTorch\n",
    "9. XGBoost\n",
    "10. Seaborn\n",
    "11. Bokeh\n",
    "12. Plotly"
   ]
  },
  {
   "cell_type": "markdown",
   "id": "88c7391b",
   "metadata": {},
   "source": [
    "Data Science Tools\n",
    "1. Apache Hadoop\n",
    "2. TensorFlow\n",
    "3. MongoDB\n",
    "4. Visual Studio Code\n",
    "5. Docker\n",
    "6. Spark\n",
    "7. Cloud\n",
    "8. Jupyter Notebook\n",
    "9. Google Colaboratory\n",
    "10. NoSQL\n",
    "11. Anacoda\n",
    "12. Sypder\n",
    "13. R studio"
   ]
  },
  {
   "cell_type": "code",
   "execution_count": null,
   "id": "c382c02b",
   "metadata": {},
   "outputs": [],
   "source": []
  },
  {
   "cell_type": "markdown",
   "id": "5a75d718",
   "metadata": {},
   "source": [
    "Arithmetic expression examples\n",
    "1. Add\n",
    "2. Subtract\n",
    "3. Multiply\n",
    "4. Divide"
   ]
  },
  {
   "cell_type": "code",
   "execution_count": 1,
   "id": "eccd4e35",
   "metadata": {},
   "outputs": [
    {
     "data": {
      "text/plain": [
       "30"
      ]
     },
     "execution_count": 1,
     "metadata": {},
     "output_type": "execute_result"
    }
   ],
   "source": [
    "# Addition\n",
    "add = 10 + 20\n",
    "add"
   ]
  },
  {
   "cell_type": "code",
   "execution_count": 2,
   "id": "519e535c",
   "metadata": {},
   "outputs": [
    {
     "data": {
      "text/plain": [
       "80"
      ]
     },
     "execution_count": 2,
     "metadata": {},
     "output_type": "execute_result"
    }
   ],
   "source": [
    "# subtract\n",
    "subtract = 100 - 20\n",
    "subtract"
   ]
  },
  {
   "cell_type": "code",
   "execution_count": 3,
   "id": "d3411e88",
   "metadata": {},
   "outputs": [
    {
     "data": {
      "text/plain": [
       "96"
      ]
     },
     "execution_count": 3,
     "metadata": {},
     "output_type": "execute_result"
    }
   ],
   "source": [
    "#multiply\n",
    "multiply = 12 * 8\n",
    "multiply"
   ]
  },
  {
   "cell_type": "code",
   "execution_count": 4,
   "id": "e4d0e8e2",
   "metadata": {},
   "outputs": [
    {
     "data": {
      "text/plain": [
       "4.5"
      ]
     },
     "execution_count": 4,
     "metadata": {},
     "output_type": "execute_result"
    }
   ],
   "source": [
    "#divide\n",
    "div = 18/4\n",
    "div"
   ]
  },
  {
   "cell_type": "markdown",
   "id": "2e83b11c",
   "metadata": {},
   "source": [
    "Multiply and add numbers"
   ]
  },
  {
   "cell_type": "code",
   "execution_count": 8,
   "id": "236370c6",
   "metadata": {},
   "outputs": [
    {
     "data": {
      "text/plain": [
       "81"
      ]
     },
     "execution_count": 8,
     "metadata": {},
     "output_type": "execute_result"
    }
   ],
   "source": [
    "#Multiply and add numbers\n",
    "a = (6 * 12) + 9\n",
    "a"
   ]
  },
  {
   "cell_type": "markdown",
   "id": "e3170d0d",
   "metadata": {},
   "source": [
    "Convert Minutes to hours"
   ]
  },
  {
   "cell_type": "code",
   "execution_count": 9,
   "id": "40d36505",
   "metadata": {},
   "outputs": [
    {
     "data": {
      "text/plain": [
       "5.0"
      ]
     },
     "execution_count": 9,
     "metadata": {},
     "output_type": "execute_result"
    }
   ],
   "source": [
    "#Convert Minutes to hours\n",
    "min = 300\n",
    "hours = min/60\n",
    "hours"
   ]
  },
  {
   "cell_type": "markdown",
   "id": "c4e1659b",
   "metadata": {},
   "source": [
    "List of Objectives\n"
   ]
  },
  {
   "cell_type": "markdown",
   "id": "3f805b70",
   "metadata": {},
   "source": [
    "1. Create Markdown cells\n",
    "2. Add comments to code cells\n",
    "3. Contents of Markdown cells should be formatted"
   ]
  },
  {
   "cell_type": "markdown",
   "id": "0430ee6f",
   "metadata": {},
   "source": [
    "Author(s)\n",
    "\n",
    "Niveditha Pandith\n",
    "Lakshmi Holia"
   ]
  },
  {
   "cell_type": "code",
   "execution_count": null,
   "id": "84a3b7b4",
   "metadata": {},
   "outputs": [],
   "source": []
  }
 ],
 "metadata": {
  "kernelspec": {
   "display_name": "Python 3 (ipykernel)",
   "language": "python",
   "name": "python3"
  },
  "language_info": {
   "codemirror_mode": {
    "name": "ipython",
    "version": 3
   },
   "file_extension": ".py",
   "mimetype": "text/x-python",
   "name": "python",
   "nbconvert_exporter": "python",
   "pygments_lexer": "ipython3",
   "version": "3.9.13"
  }
 },
 "nbformat": 4,
 "nbformat_minor": 5
}
